{
  "nbformat": 4,
  "nbformat_minor": 0,
  "metadata": {
    "colab": {
      "provenance": [],
      "include_colab_link": true
    },
    "kernelspec": {
      "name": "python3",
      "display_name": "Python 3"
    },
    "language_info": {
      "name": "python"
    }
  },
  "cells": [
    {
      "cell_type": "markdown",
      "metadata": {
        "id": "view-in-github",
        "colab_type": "text"
      },
      "source": [
        "<a href=\"https://colab.research.google.com/github/yashpal64/Foundations-of-Data-Science/blob/main/Copy_of_FDS_Time_Series.ipynb\" target=\"_parent\"><img src=\"https://colab.research.google.com/assets/colab-badge.svg\" alt=\"Open In Colab\"/></a>"
      ]
    },
    {
      "cell_type": "code",
      "execution_count": null,
      "metadata": {
        "id": "jPMTKLHl-WLR"
      },
      "outputs": [],
      "source": [
        "arr=[8,13,19,10,2,29,35,22,65,132]"
      ]
    },
    {
      "cell_type": "code",
      "source": [
        "a=[]\n",
        "for i in range(len(arr)):\n",
        "  if i==len(arr)-1:\n",
        "    break\n",
        "  a.append(arr[i]-arr[i+1])"
      ],
      "metadata": {
        "id": "vxCJrO33IwqW"
      },
      "execution_count": null,
      "outputs": []
    },
    {
      "cell_type": "code",
      "source": [
        "a"
      ],
      "metadata": {
        "colab": {
          "base_uri": "https://localhost:8080/"
        },
        "id": "dsU8x006JArh",
        "outputId": "1aa00491-4558-4ed1-b3e7-dfe566403c3e"
      },
      "execution_count": null,
      "outputs": [
        {
          "output_type": "execute_result",
          "data": {
            "text/plain": [
              "[-5, -6, 9, 8, -27, -6, 13, -43, -67]"
            ]
          },
          "metadata": {},
          "execution_count": 3
        }
      ]
    },
    {
      "cell_type": "code",
      "source": [
        "l1=a[0:8]\n",
        "l2=a[1:]"
      ],
      "metadata": {
        "id": "X6p8AB8ZJIBB"
      },
      "execution_count": null,
      "outputs": []
    },
    {
      "cell_type": "code",
      "source": [
        "print(l1)\n",
        "print(l2)"
      ],
      "metadata": {
        "colab": {
          "base_uri": "https://localhost:8080/"
        },
        "id": "UFoJKks2Jcyk",
        "outputId": "3b3f61e5-88fb-465b-d8b7-efebc1a83f45"
      },
      "execution_count": null,
      "outputs": [
        {
          "output_type": "stream",
          "name": "stdout",
          "text": [
            "[-5, -6, 9, 8, -27, -6, 13, -43]\n",
            "[-6, 9, 8, -27, -6, 13, -43, -67]\n"
          ]
        }
      ]
    },
    {
      "cell_type": "code",
      "source": [
        "import numpy as np\n",
        "# Calculate covariance using numpy\n",
        "cov_matrix = np.cov(l1, l2, bias=False)\n",
        "\n",
        "# Covariance value is the off-diagonal element\n",
        "cov_value = cov_matrix[0, 1]\n",
        "\n",
        "print(\"Covariance between X and Y:\", cov_value)"
      ],
      "metadata": {
        "colab": {
          "base_uri": "https://localhost:8080/"
        },
        "id": "-aRFwOG0Jhi5",
        "outputId": "03610dac-1611-4eb8-ec61-b1436d97a5c0"
      },
      "execution_count": null,
      "outputs": [
        {
          "output_type": "stream",
          "name": "stdout",
          "text": [
            "Covariance between X and Y: 198.5892857142857\n"
          ]
        }
      ]
    },
    {
      "cell_type": "code",
      "source": [
        "l1c=np.var(l1)\n",
        "print(l1c)"
      ],
      "metadata": {
        "colab": {
          "base_uri": "https://localhost:8080/"
        },
        "id": "6Xa_DO4jKzeN",
        "outputId": "90e590dc-1acb-44f0-bcca-810e3255e428"
      },
      "execution_count": null,
      "outputs": [
        {
          "output_type": "stream",
          "name": "stdout",
          "text": [
            "322.859375\n"
          ]
        }
      ]
    },
    {
      "cell_type": "code",
      "source": [
        "phi=cov_value/l1c\n",
        "print(phi)"
      ],
      "metadata": {
        "colab": {
          "base_uri": "https://localhost:8080/"
        },
        "id": "Olx31p7pMfVY",
        "outputId": "3b6dfc2e-c27c-41a0-cc68-7bea49d4e941"
      },
      "execution_count": null,
      "outputs": [
        {
          "output_type": "stream",
          "name": "stdout",
          "text": [
            "0.6150953049273719\n"
          ]
        }
      ]
    },
    {
      "cell_type": "code",
      "source": [
        "arr.append(arr[len(arr)-1]+phi)"
      ],
      "metadata": {
        "id": "bQFJmiobMnS_"
      },
      "execution_count": null,
      "outputs": []
    },
    {
      "cell_type": "code",
      "source": [
        "arr"
      ],
      "metadata": {
        "colab": {
          "base_uri": "https://localhost:8080/"
        },
        "id": "NenWdoc5M3-x",
        "outputId": "b400f57d-ae6c-4cf3-d397-3271c490e5a9"
      },
      "execution_count": null,
      "outputs": [
        {
          "output_type": "execute_result",
          "data": {
            "text/plain": [
              "[8, 13, 19, 10, 2, 29, 35, 22, 65, 132, 132.61509530492737]"
            ]
          },
          "metadata": {},
          "execution_count": 10
        }
      ]
    },
    {
      "cell_type": "code",
      "source": [],
      "metadata": {
        "id": "M48kbf0tM4sY"
      },
      "execution_count": null,
      "outputs": []
    }
  ]
}
