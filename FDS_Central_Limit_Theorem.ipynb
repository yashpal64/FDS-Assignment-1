{
  "nbformat": 4,
  "nbformat_minor": 0,
  "metadata": {
    "colab": {
      "provenance": [],
      "include_colab_link": true
    },
    "kernelspec": {
      "name": "python3",
      "display_name": "Python 3"
    },
    "language_info": {
      "name": "python"
    }
  },
  "cells": [
    {
      "cell_type": "markdown",
      "metadata": {
        "id": "view-in-github",
        "colab_type": "text"
      },
      "source": [
        "<a href=\"https://colab.research.google.com/github/yashpal64/Foundations-of-Data-Science/blob/main/FDS_Central_Limit_Theorem.ipynb\" target=\"_parent\"><img src=\"https://colab.research.google.com/assets/colab-badge.svg\" alt=\"Open In Colab\"/></a>"
      ]
    },
    {
      "cell_type": "code",
      "execution_count": null,
      "metadata": {
        "colab": {
          "base_uri": "https://localhost:8080/"
        },
        "id": "zkfUvWW2vqvH",
        "outputId": "23110697-169f-4805-8a33-6cb92a171027"
      },
      "outputs": [
        {
          "output_type": "stream",
          "name": "stdout",
          "text": [
            "[10, 20, 30, 40, 50, 60, 70, 80, 90, 100, 110, 120, 130, 140, 150, 160, 170, 180, 190, 200, 210, 220, 230, 240, 250, 260, 270, 280, 290, 300]\n"
          ]
        }
      ],
      "source": [
        "sample_space = list(map(lambda x: x * 10, range(1, 31)))\n",
        "print(sample_space)"
      ]
    },
    {
      "cell_type": "code",
      "source": [
        "import random\n",
        "population_set = list(map(lambda x: x * 10, range(1, 31)))\n",
        "samples = []\n",
        "for _ in range(10):\n",
        "  sample = random.sample(population_set, 5)# Create 10 samples with 5 elements each\n",
        "  samples.append(sample)\n",
        "# Print the samples\n",
        "for i, sample in enumerate(samples):\n",
        "  print(f\"Sample {i + 1}: {sample}\")"
      ],
      "metadata": {
        "colab": {
          "base_uri": "https://localhost:8080/"
        },
        "id": "WS1tmWN-wP1Y",
        "outputId": "58eaea2c-5e7d-404f-c15b-93312a4078ff"
      },
      "execution_count": null,
      "outputs": [
        {
          "output_type": "stream",
          "name": "stdout",
          "text": [
            "Sample 1: [190, 220, 260, 200, 60]\n",
            "Sample 2: [30, 270, 280, 20, 140]\n",
            "Sample 3: [10, 240, 110, 140, 280]\n",
            "Sample 4: [80, 120, 130, 40, 110]\n",
            "Sample 5: [160, 220, 70, 290, 300]\n",
            "Sample 6: [240, 140, 300, 150, 170]\n",
            "Sample 7: [290, 130, 100, 280, 230]\n",
            "Sample 8: [90, 120, 100, 160, 180]\n",
            "Sample 9: [90, 230, 70, 140, 290]\n",
            "Sample 10: [100, 190, 220, 20, 300]\n"
          ]
        }
      ]
    },
    {
      "cell_type": "code",
      "source": [
        "# Calculate Mean :\n",
        "def calculate_mean(sample):\n",
        "  total = 0\n",
        "  for num in sample:\n",
        "    total += num\n",
        "  mean = total / len(sample)\n",
        "  return mean\n",
        "\n",
        "def calculate_standard_deviation(sample):\n",
        "  Mean_ = calculate_mean(sample)\n",
        "  variance_sum = 0\n",
        "  for num in sample:\n",
        "    variance_sum += (num - Mean_) ** 2\n",
        "  variance = variance_sum / len(sample)\n",
        "  standard_deviation = variance ** 0.5\n",
        "  return standard_deviation\n",
        "\n",
        "Mean_population = calculate_mean(population_set)\n",
        "Standard_deviation_of_population = calculate_standard_deviation(population_set)\n",
        "print(\"Mean of the population {0}.\".format(Mean_population))\n",
        "print(\"Standard Deviation of the population {0}.\".format(round(Standard_deviation_of_population,2)))\n"
      ],
      "metadata": {
        "colab": {
          "base_uri": "https://localhost:8080/"
        },
        "id": "uQF36bQEwY1H",
        "outputId": "b18508bc-c227-46f7-820a-beb1097d17b4"
      },
      "execution_count": null,
      "outputs": [
        {
          "output_type": "stream",
          "name": "stdout",
          "text": [
            "Mean of the population 155.0.\n",
            "Standard Deviation of the population 86.55.\n"
          ]
        }
      ]
    },
    {
      "cell_type": "code",
      "source": [
        "samples"
      ],
      "metadata": {
        "colab": {
          "base_uri": "https://localhost:8080/"
        },
        "id": "rw2NseEswsao",
        "outputId": "eefbbb67-a42e-4d21-a286-8baa0c726695"
      },
      "execution_count": null,
      "outputs": [
        {
          "output_type": "execute_result",
          "data": {
            "text/plain": [
              "[[190, 220, 260, 200, 60],\n",
              " [30, 270, 280, 20, 140],\n",
              " [10, 240, 110, 140, 280],\n",
              " [80, 120, 130, 40, 110],\n",
              " [160, 220, 70, 290, 300],\n",
              " [240, 140, 300, 150, 170],\n",
              " [290, 130, 100, 280, 230],\n",
              " [90, 120, 100, 160, 180],\n",
              " [90, 230, 70, 140, 290],\n",
              " [100, 190, 220, 20, 300]]"
            ]
          },
          "metadata": {},
          "execution_count": 4
        }
      ]
    },
    {
      "cell_type": "code",
      "source": [
        "Means_of_sample = []\n",
        "STD_of_sample = []\n",
        "for i in range(0,10):\n",
        "  x = calculate_mean(samples[i])\n",
        "  y = round(calculate_standard_deviation(samples[i]),2)\n",
        "  Means_of_sample.append(x)\n",
        "  STD_of_sample.append(y)\n",
        "print(\"Mean of all of the respective samples : \",Means_of_sample)\n",
        "print(\"Standard Deviation of all of the respective samples : \",STD_of_sample)"
      ],
      "metadata": {
        "colab": {
          "base_uri": "https://localhost:8080/"
        },
        "id": "Nf5R5ajhw2sg",
        "outputId": "c76fec8a-c78b-4c19-dda3-70d986d1d4c4"
      },
      "execution_count": null,
      "outputs": [
        {
          "output_type": "stream",
          "name": "stdout",
          "text": [
            "Mean of all of the respective samples :  [186.0, 148.0, 156.0, 96.0, 208.0, 200.0, 206.0, 130.0, 164.0, 166.0]\n",
            "Standard Deviation of all of the respective samples :  [67.41, 111.96, 96.04, 32.62, 85.65, 60.99, 77.61, 34.64, 83.81, 97.08]\n"
          ]
        }
      ]
    },
    {
      "cell_type": "code",
      "source": [
        "# Checking the deviation :\n",
        "print(\"Comparing the mean of the entire population and Avg. of all the means of sample spaces ->\")\n",
        "print(\"Mean of the Population : \",Mean_population)\n",
        "print(\"Average of the Mean of all the sample spaces combined :\",calculate_mean(Means_of_sample))"
      ],
      "metadata": {
        "colab": {
          "base_uri": "https://localhost:8080/"
        },
        "id": "BnGGoadiw6aB",
        "outputId": "d7e14f95-e594-4616-9707-38c96ac3fd3e"
      },
      "execution_count": null,
      "outputs": [
        {
          "output_type": "stream",
          "name": "stdout",
          "text": [
            "Comparing the mean of the entire population and Avg. of all the means of sample spaces ->\n",
            "Mean of the Population :  155.0\n",
            "Average of the Mean of all the sample spaces combined : 166.0\n"
          ]
        }
      ]
    },
    {
      "cell_type": "code",
      "source": [
        "# Comparing and calculating similarly for standard deviation :\n",
        "def sd_comp(a_sample,avg1):\n",
        "  sum_nu = 0\n",
        "  final=0\n",
        "  for i in a_sample:\n",
        "    sum_nu += (i-avg1)**2\n",
        "    final= sum_nu/len(a_sample)-1\n",
        "  #final += sum_nu\n",
        "  final = final**0.5\n",
        "\n",
        "  return final\n",
        "print(\"Standard Deviation of the Population :\",round(Standard_deviation_of_population,2))\n",
        "print(\"Combined Standard deviation of all the sample space :\",sd_comp(Means_of_sample,Mean_population))"
      ],
      "metadata": {
        "colab": {
          "base_uri": "https://localhost:8080/"
        },
        "id": "1fG7Mmc3xANS",
        "outputId": "06699a4e-5f20-4115-86ea-d52997e2739f"
      },
      "execution_count": null,
      "outputs": [
        {
          "output_type": "stream",
          "name": "stdout",
          "text": [
            "Standard Deviation of the Population : 86.55\n",
            "Combined Standard deviation of all the sample space : 35.69873947354444\n"
          ]
        }
      ]
    },
    {
      "cell_type": "code",
      "source": [
        "print(\"The error in the std:\",round(Standard_deviation_of_population,2)//(5)**0.5)"
      ],
      "metadata": {
        "colab": {
          "base_uri": "https://localhost:8080/"
        },
        "id": "PrZHSC-oxH8Y",
        "outputId": "a1244dc7-3832-43bd-d20d-830607171cf5"
      },
      "execution_count": null,
      "outputs": [
        {
          "output_type": "stream",
          "name": "stdout",
          "text": [
            "The error in the std: 38.0\n"
          ]
        }
      ]
    }
  ]
}